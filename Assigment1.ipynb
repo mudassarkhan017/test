{
 "cells": [
  {
   "cell_type": "markdown",
   "metadata": {},
   "source": [
    "## ASSIGMENT 1"
   ]
  },
  {
   "cell_type": "markdown",
   "metadata": {},
   "source": [
    "## Task1 :"
   ]
  },
  {
   "cell_type": "markdown",
   "metadata": {},
   "source": [
    "1 . Write a program which will find all such numbers which are divisible by 7 but are not a multipleof 5, between 2000 and 3200 (both included). The numbers obtained should be printed in acomma-separated sequence on a single line."
   ]
  },
  {
   "cell_type": "code",
   "execution_count": 23,
   "metadata": {},
   "outputs": [
    {
     "name": "stdout",
     "output_type": "stream",
     "text": [
      "The Numbers from the Range 2000 and 3200 divisible by 7 but are not a multipleof 5 :  \n",
      "\n",
      "2002,2009,2016,2023,2037,2044,2051,2058,2072,2079,2086,2093,2107,2114,2121,2128,2142,2149,2156,2163,2177,2184,2191,2198,2212,2219,2226,2233,2247,2254,2261,2268,2282,2289,2296,2303,2317,2324,2331,2338,2352,2359,2366,2373,2387,2394,2401,2408,2422,2429,2436,2443,2457,2464,2471,2478,2492,2499,2506,2513,2527,2534,2541,2548,2562,2569,2576,2583,2597,2604,2611,2618,2632,2639,2646,2653,2667,2674,2681,2688,2702,2709,2716,2723,2737,2744,2751,2758,2772,2779,2786,2793,2807,2814,2821,2828,2842,2849,2856,2863,2877,2884,2891,2898,2912,2919,2926,2933,2947,2954,2961,2968,2982,2989,2996,3003,3017,3024,3031,3038,3052,3059,3066,3073,3087,3094,3101,3108,3122,3129,3136,3143,3157,3164,3171,3178,3192,3199,"
     ]
    }
   ],
   "source": [
    "print(\"The Numbers from the Range 2000 and 3200 divisible by 7 but are not a multipleof 5 : \",\"\\n\")\n",
    "for i in range(2000,3200):   # for loop to run between the range 2000 and 3200\n",
    "    \n",
    "    if (i % 7 == 0) and (i % 5 !=0) :     #Conditional Statement to check divisbility \n",
    "        print(i,end=\",\")                  #Printing the numbers in a single line\n",
    "    "
   ]
  },
  {
   "cell_type": "code",
   "execution_count": null,
   "metadata": {},
   "outputs": [],
   "source": []
  },
  {
   "cell_type": "markdown",
   "metadata": {},
   "source": [
    "2. Write a Python program to accept the user's first and last name and then getting them printed inthe the reverse order with a space between first name and last name."
   ]
  },
  {
   "cell_type": "code",
   "execution_count": 28,
   "metadata": {},
   "outputs": [
    {
     "name": "stdout",
     "output_type": "stream",
     "text": [
      "Enter Your First Name: Mudassar\n",
      "Enter Your Last Name: Khan\n",
      "rassaduM   nahK\n"
     ]
    }
   ],
   "source": [
    "f_name = input (\"Enter Your First Name: \")   #Inputing First Name \n",
    "s_name = input (\"Enter Your Last Name: \")    #Inputing Last Name\n",
    "\n",
    "def RevName(strX):        #Function to reverse the String\n",
    "    return strX[::-1]\n",
    "\n",
    "print(RevName(f_name),\" \",RevName(s_name))      #Printing the reverse First Name and Last Name \n",
    "    "
   ]
  },
  {
   "cell_type": "markdown",
   "metadata": {},
   "source": []
  },
  {
   "cell_type": "markdown",
   "metadata": {},
   "source": [
    "3.Write a Python program to find the volume of a sphere with diameter 12 cm.Formula: V=4/3 * π * r3"
   ]
  },
  {
   "cell_type": "code",
   "execution_count": 42,
   "metadata": {},
   "outputs": [
    {
     "name": "stdout",
     "output_type": "stream",
     "text": [
      "Volume of a Sphere :  905.142857142857 cm^3\n"
     ]
    }
   ],
   "source": [
    "radius = 12 /2 #Radius = Diameter / 2 \n",
    "\n",
    "V = (4/3)*(22/7)*pow(radius,3)    #Calculation of the Volume of the sphere\n",
    "\n",
    "print(\"Volume of a Sphere : \",V,\"cm^3\")   # Printing the Volume of the Sphere"
   ]
  },
  {
   "cell_type": "code",
   "execution_count": null,
   "metadata": {},
   "outputs": [],
   "source": []
  },
  {
   "cell_type": "code",
   "execution_count": null,
   "metadata": {},
   "outputs": [],
   "source": [
    "'''\n",
    "List = []\n",
    "for i in range(num_sq):\n",
    "    num = input(\"Enter the Number \",i,\" : \")\n",
    "    List.insert(num)\n",
    "    \n",
    "print(List)\n",
    "\n",
    "'''"
   ]
  },
  {
   "cell_type": "markdown",
   "metadata": {},
   "source": [
    "## Task 2 :"
   ]
  },
  {
   "cell_type": "markdown",
   "metadata": {},
   "source": [
    "1. Write a program which accepts a sequence of comma-separated numbers from console andgenerate a list."
   ]
  },
  {
   "cell_type": "code",
   "execution_count": 70,
   "metadata": {},
   "outputs": [
    {
     "name": "stdout",
     "output_type": "stream",
     "text": [
      "Enter the Number of the Sequence : 5\n",
      "Enter the Number : 10\n",
      "Enter the Number : 20\n",
      "Enter the Number : 30\n",
      "Enter the Number : 40\n",
      "Enter the Number : 50\n",
      "The List is  [10, 20, 30, 40, 50]\n"
     ]
    }
   ],
   "source": [
    "num_sq = int(input(\"Enter the Number of the Sequence : \"))  #Taking number of sequence \n",
    "\n",
    "List = []    # Initializing the List\n",
    "\n",
    "for i in range(num_sq):         #Creating For Loop till the sequence \n",
    "    \n",
    "    num = int(input(\"Enter the Number : \"))    #Taking Inputs for the list\n",
    "    List.append(num)                           #Appending the Number to the List\n",
    "    \n",
    "print(\"The List is \",List)       #Printing the List\n"
   ]
  },
  {
   "cell_type": "code",
   "execution_count": null,
   "metadata": {},
   "outputs": [],
   "source": []
  },
  {
   "cell_type": "markdown",
   "metadata": {},
   "source": [
    "2.Create the below pattern using nested for loop in Python.\n",
    "*\n",
    "* *\n",
    "* * *\n",
    "* * * *\n",
    "* * * * *\n",
    "* * * *\n",
    "* * *\n",
    "* *\n",
    "*"
   ]
  },
  {
   "cell_type": "code",
   "execution_count": 128,
   "metadata": {},
   "outputs": [
    {
     "name": "stdout",
     "output_type": "stream",
     "text": [
      "Enter An Even Sequence : 10\n",
      "\n",
      "\n",
      "*\n",
      "\n",
      "**\n",
      "\n",
      "***\n",
      "\n",
      "****\n",
      "\n",
      "*****\n",
      "\n",
      "****\n",
      "\n",
      "***\n",
      "\n",
      "**\n",
      "\n",
      "*\n",
      "\n"
     ]
    }
   ],
   "source": [
    "n=int(input(\"Enter An Even Sequence : \"))\n",
    "\n",
    "for i in range(n):\n",
    "    if i <= n/2 :\n",
    "        for j in range(n-i,n):\n",
    "            print(\"*\",end=\"\")\n",
    "    else:\n",
    "        for j in range(0,n-i):\n",
    "            print(\"*\",end=\"\")\n",
    "    \n",
    "            \n",
    "    print(\"\\n\")"
   ]
  },
  {
   "cell_type": "code",
   "execution_count": null,
   "metadata": {},
   "outputs": [],
   "source": []
  },
  {
   "cell_type": "markdown",
   "metadata": {},
   "source": [
    "3. Write a Python program to reverse a word after accepting the input from the user.Sample Output:Input word: AcadGildOutput: dilGdacA"
   ]
  },
  {
   "cell_type": "code",
   "execution_count": 132,
   "metadata": {},
   "outputs": [
    {
     "name": "stdout",
     "output_type": "stream",
     "text": [
      "Enter the String : AcadGlid\n",
      "The Reverse String :  dilGdacA\n"
     ]
    }
   ],
   "source": [
    "strng = input(\"Enter the String : \")\n",
    "\n",
    "def RevStg(x):\n",
    "    return x[::-1]\n",
    "\n",
    "print(\"The Reverse String : \",RevStg(strng))\n",
    "    "
   ]
  },
  {
   "cell_type": "code",
   "execution_count": null,
   "metadata": {},
   "outputs": [],
   "source": []
  },
  {
   "cell_type": "markdown",
   "metadata": {},
   "source": [
    "4.Write a Python Program to print the given string in the format specified in the ​sample output.\n",
    "WE, THE PEOPLE OF INDIA, having solemnly resolved to constitute India into aSOVEREIGN, SOCIALIST, SECULAR, DEMOCRATIC REPUBLIC and to secure to allits citizens\n",
    "\n",
    "Sample Output:\n",
    "\n",
    "WE, THE PEOPLE OF INDIA, \n",
    "     having solemnly resolved to constitute India into a SOVEREIGN,!\n",
    "            SOCIALIST, SECULAR, DEMOCRATIC REPUBLIC  \n",
    "             and to secure to all its citizens\n",
    "             \n",
    "             NOTE:​​The​​solution​​shared​​through​​Github​​should​​contain​​the​​source code​​used​​and​​the​​screenshot​​of​​the​​output."
   ]
  },
  {
   "cell_type": "code",
   "execution_count": null,
   "metadata": {},
   "outputs": [],
   "source": []
  }
 ],
 "metadata": {
  "kernelspec": {
   "display_name": "Python 3",
   "language": "python",
   "name": "python3"
  },
  "language_info": {
   "codemirror_mode": {
    "name": "ipython",
    "version": 3
   },
   "file_extension": ".py",
   "mimetype": "text/x-python",
   "name": "python",
   "nbconvert_exporter": "python",
   "pygments_lexer": "ipython3",
   "version": "3.7.4"
  }
 },
 "nbformat": 4,
 "nbformat_minor": 2
}
